{
 "cells": [
  {
   "cell_type": "markdown",
   "metadata": {
    "tags": []
   },
   "source": [
    "# Lab | Data Structures "
   ]
  },
  {
   "cell_type": "markdown",
   "metadata": {},
   "source": [
    "## Exercise: Managing Customer Orders\n",
    "\n",
    "As part of a business venture, you are starting an online store that sells various products. To ensure smooth operations, you need to develop a program that manages customer orders and inventory.\n",
    "\n",
    "Follow the steps below to complete the exercise:\n",
    "\n",
    "1. Define a list called `products` that contains the following items: \"t-shirt\", \"mug\", \"hat\", \"book\", \"keychain\".\n",
    "\n",
    "2. Create an empty dictionary called `inventory`.\n",
    "\n",
    "3. Ask the user to input the quantity of each product available in the inventory. Use the product names from the `products` list as keys in the `inventory` dictionary and assign the respective quantities as values.\n",
    "\n",
    "4. Create an empty set called `customer_orders`.\n",
    "\n",
    "5. Ask the user to input the name of three products that a customer wants to order (from those in the products list, meaning three products out of \"t-shirt\", \"mug\", \"hat\", \"book\" or \"keychain\". Add each product name to the `customer_orders` set.\n",
    "\n",
    "6. Print the products in the `customer_orders` set.\n",
    "\n",
    "7. Calculate the following order statistics:\n",
    "   - Total Products Ordered: The total number of products in the `customer_orders` set.\n",
    "   - Percentage of Products Ordered: The percentage of products ordered compared to the total available products.\n",
    "   \n",
    "   Store these statistics in a tuple called `order_status`.\n",
    "\n",
    "8. Print the order statistics using the following format:\n",
    "   ```\n",
    "   Order Statistics:\n",
    "   Total Products Ordered: <total_products_ordered>\n",
    "   Percentage of Products Ordered: <percentage_ordered>% \n",
    "   ```\n",
    "\n",
    "9. Update the inventory by subtracting 1 from the quantity of each product. Modify the `inventory` dictionary accordingly.\n",
    "\n",
    "10. Print the updated inventory, displaying the quantity of each product on separate lines.\n",
    "\n",
    "Solve the exercise by implementing the steps using the Python concepts of lists, dictionaries, sets, and basic input/output operations. "
   ]
  },
  {
   "cell_type": "code",
   "execution_count": 2,
   "metadata": {},
   "outputs": [],
   "source": [
    "# Answer 1\n",
    "Products = [\"t-shirt\", \"mug\", \"hat\", \"book\", \"keychain\"]"
   ]
  },
  {
   "cell_type": "code",
   "execution_count": 3,
   "metadata": {},
   "outputs": [
    {
     "data": {
      "text/plain": [
       "dict"
      ]
     },
     "execution_count": 3,
     "metadata": {},
     "output_type": "execute_result"
    }
   ],
   "source": [
    "# Answer 2\n",
    "# Create an empty dictionary called `inventory`.\n",
    "\n",
    "inventory={}\n",
    "type(inventory)"
   ]
  },
  {
   "cell_type": "code",
   "execution_count": 4,
   "metadata": {},
   "outputs": [
    {
     "ename": "ValueError",
     "evalue": "invalid literal for int() with base 10: ''",
     "output_type": "error",
     "traceback": [
      "\u001b[1;31m---------------------------------------------------------------------------\u001b[0m",
      "\u001b[1;31mValueError\u001b[0m                                Traceback (most recent call last)",
      "Cell \u001b[1;32mIn[4], line 9\u001b[0m\n\u001b[0;32m      6\u001b[0m X \u001b[38;5;241m=\u001b[39m \u001b[38;5;28mlen\u001b[39m(Products)\n\u001b[0;32m      8\u001b[0m \u001b[38;5;28;01mfor\u001b[39;00m x \u001b[38;5;129;01min\u001b[39;00m \u001b[38;5;28mrange\u001b[39m(X):\n\u001b[1;32m----> 9\u001b[0m     Value\u001b[38;5;241m=\u001b[39m\u001b[38;5;28;43mint\u001b[39;49m\u001b[43m(\u001b[49m\u001b[38;5;28;43minput\u001b[39;49m\u001b[43m(\u001b[49m\u001b[38;5;124;43m\"\u001b[39;49m\u001b[38;5;124;43minput the quantity of \u001b[39;49m\u001b[38;5;124;43m\"\u001b[39;49m\u001b[43m \u001b[49m\u001b[38;5;241;43m+\u001b[39;49m\u001b[43m \u001b[49m\u001b[43mProducts\u001b[49m\u001b[43m[\u001b[49m\u001b[43mx\u001b[49m\u001b[43m]\u001b[49m\u001b[43m \u001b[49m\u001b[38;5;241;43m+\u001b[39;49m\u001b[43m \u001b[49m\u001b[38;5;124;43m\"\u001b[39;49m\u001b[38;5;124;43m available in the inventory\u001b[39;49m\u001b[38;5;124;43m\"\u001b[39;49m\u001b[43m)\u001b[49m\u001b[43m)\u001b[49m\n\u001b[0;32m     10\u001b[0m     inventory\u001b[38;5;241m.\u001b[39mupdate({Products[x]:Value})\n\u001b[0;32m     11\u001b[0m inventory\n",
      "\u001b[1;31mValueError\u001b[0m: invalid literal for int() with base 10: ''"
     ]
    }
   ],
   "source": [
    "# Answer 3\n",
    "# Ask the user to input the quantity of each product available in the inventory. Use the product names from the `products` list as keys in the `inventory` 90\n",
    "# 76\n",
    "# dictionary and assign the respective quantities as values.\n",
    "\n",
    "X = len(Products)\n",
    "\n",
    "for x in range(X):\n",
    "    Value=int(input(\"input the quantity of \" + Products[x] + \" available in the inventory\"))\n",
    "    inventory.update({Products[x]:Value})\n",
    "inventory"
   ]
  },
  {
   "cell_type": "code",
   "execution_count": null,
   "metadata": {},
   "outputs": [],
   "source": [
    "# Answer 4\n",
    "customer_orders = set()"
   ]
  },
  {
   "cell_type": "code",
   "execution_count": null,
   "metadata": {},
   "outputs": [],
   "source": [
    "# Answer 5\n",
    "Numberofproducts=3\n",
    "\n",
    "for i in range(Numberofproducts):\n",
    "    customer_orders.add(input(f\"input the name of three products that a you wants to order from those in the products list following list: {Products}\"))\n",
    "\n"
   ]
  },
  {
   "cell_type": "code",
   "execution_count": null,
   "metadata": {},
   "outputs": [
    {
     "name": "stdout",
     "output_type": "stream",
     "text": [
      "{'book', 'mug', 'hat'}\n"
     ]
    }
   ],
   "source": [
    "# Answer 6\n",
    "print(customer_orders)"
   ]
  },
  {
   "cell_type": "code",
   "execution_count": null,
   "metadata": {},
   "outputs": [],
   "source": [
    "# Answer 7\n",
    "#Calculate the following order statistics:\n",
    "#   - Total Products Ordered: The total number of products in the `customer_orders` set.\n",
    "#   - Percentage of Products Ordered: The percentage of products ordered compared to the total available products.\n",
    "   \n",
    "#   Store these statistics in a tuple called `order_status`.\n",
    "\n",
    "TotalOrdered=len(customer_orders)\n",
    "order_status=(TotalOrdered,TotalOrdered/len(Products))"
   ]
  },
  {
   "cell_type": "code",
   "execution_count": null,
   "metadata": {},
   "outputs": [
    {
     "name": "stdout",
     "output_type": "stream",
     "text": [
      "Order Statistics:\n",
      "Total Products Ordered 3\n",
      "Total Products Ordered (3, 0.6)%\n"
     ]
    }
   ],
   "source": [
    "# Answer 8\n",
    "#Print the order statistics using the following format:\n",
    "\n",
    "#   Order Statistics:\n",
    "#   Total Products Ordered: <total_products_ordered>\n",
    "#   Percentage of Products Ordered: <percentage_ordered>% \n",
    "\n",
    "print(\"Order Statistics:\")    \n",
    "print(f\"Total Products Ordered {TotalOrdered}\")\n",
    "print(f\"Total Products Ordered {order_status}%\")"
   ]
  },
  {
   "cell_type": "code",
   "execution_count": null,
   "metadata": {},
   "outputs": [
    {
     "name": "stdout",
     "output_type": "stream",
     "text": [
      "{'t-shirt': 224, 'mug': 524, 'hat': 524, 'book': 524, 'keychain': 51}\n"
     ]
    }
   ],
   "source": [
    "# Answer 9\n",
    "#Update the inventory by subtracting 1 from the quantity of each product. Modify the `inventory` dictionary accordingly.\n",
    "\n",
    "for x in range(X):\n",
    "    DD=int(inventory.get(Products[x]))\n",
    "\n",
    "    if DD>0:\n",
    "        DD-=1\n",
    "        inventory.update({Products[x]:DD})\n",
    "print(inventory)\n",
    "    "
   ]
  },
  {
   "cell_type": "code",
   "execution_count": null,
   "metadata": {},
   "outputs": [
    {
     "name": "stdout",
     "output_type": "stream",
     "text": [
      "t-shirt: 224\n",
      "mug: 524\n",
      "hat: 524\n",
      "book: 524\n",
      "keychain: 51\n"
     ]
    }
   ],
   "source": [
    "# Print the updated inventory, displaying the quantity of each product on separate lines.\n",
    "\n",
    "for (key,value) in inventory.items():\n",
    "    print('{key}: {value}'.format(key=key, value=value))"
   ]
  }
 ],
 "metadata": {
  "kernelspec": {
   "display_name": "Python 3 (ipykernel)",
   "language": "python",
   "name": "python3"
  },
  "language_info": {
   "codemirror_mode": {
    "name": "ipython",
    "version": 3
   },
   "file_extension": ".py",
   "mimetype": "text/x-python",
   "name": "python",
   "nbconvert_exporter": "python",
   "pygments_lexer": "ipython3",
   "version": "3.12.4"
  }
 },
 "nbformat": 4,
 "nbformat_minor": 4
}
